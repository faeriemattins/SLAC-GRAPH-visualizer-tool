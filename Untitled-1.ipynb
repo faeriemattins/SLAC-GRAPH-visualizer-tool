{
 "cells": [
  {
   "cell_type": "code",
   "execution_count": 7,
   "metadata": {},
   "outputs": [],
   "source": [
    "import os\n",
    "import json\n",
    "import numpy as np"
   ]
  },
  {
   "cell_type": "code",
   "execution_count": 2,
   "metadata": {},
   "outputs": [],
   "source": [
    "def load_sessions():\n",
    "    dataset_dir = './coauthor-v1.0'\n",
    "    sessions = [\n",
    "        os.path.join(dataset_dir, path)\n",
    "        for path in os.listdir(dataset_dir)\n",
    "        if path.endswith('jsonl')\n",
    "    ]\n",
    "    # print(\n",
    "    #     f'Successfully downloaded {len(sessions)} writing sessions in CoAuthor!')\n",
    "    return sessions"
   ]
  },
  {
   "cell_type": "code",
   "execution_count": 3,
   "metadata": {},
   "outputs": [],
   "source": [
    "def read_session(session):\n",
    "    events = []\n",
    "    with open(session, 'r') as f:\n",
    "        for event in f:\n",
    "            events.append(json.loads(event))\n",
    "    # print(f'Successfully read {len(events)} events in a writing session from {session}')\n",
    "    return events"
   ]
  },
  {
   "cell_type": "markdown",
   "metadata": {},
   "source": [
    "## Check if all sessions start with prompt"
   ]
  },
  {
   "cell_type": "code",
   "execution_count": 4,
   "metadata": {},
   "outputs": [
    {
     "name": "stdout",
     "output_type": "stream",
     "text": [
      "0\n"
     ]
    }
   ],
   "source": [
    "sum = 0\n",
    "sessions = load_sessions()\n",
    "for session in sessions:\n",
    "    events = read_session(session)\n",
    "    if events[0][\"eventName\"] != \"system-initialize\":\n",
    "        sum += 1\n",
    "\n",
    "print(sum)\n",
    "\n",
    "# All sessions start with a prompt"
   ]
  },
  {
   "cell_type": "markdown",
   "metadata": {},
   "source": [
    "## Find all unique events"
   ]
  },
  {
   "cell_type": "code",
   "execution_count": 8,
   "metadata": {},
   "outputs": [
    {
     "name": "stdout",
     "output_type": "stream",
     "text": [
      "['cursor-backward' 'cursor-forward' 'cursor-select' 'suggestion-close'\n",
      " 'suggestion-down' 'suggestion-get' 'suggestion-hover' 'suggestion-open'\n",
      " 'suggestion-reopen' 'suggestion-select' 'suggestion-up'\n",
      " 'system-initialize' 'text-delete' 'text-insert']\n"
     ]
    }
   ],
   "source": [
    "all_events = []\n",
    "\n",
    "for session in sessions:\n",
    "    events = read_session(session)\n",
    "    for event in events:\n",
    "        all_events.append(event[\"eventName\"])\n",
    "\n",
    "print(np.unique(all_events))"
   ]
  },
  {
   "cell_type": "code",
   "execution_count": 10,
   "metadata": {},
   "outputs": [
    {
     "data": {
      "text/plain": [
       "14"
      ]
     },
     "execution_count": 10,
     "metadata": {},
     "output_type": "execute_result"
    }
   ],
   "source": [
    "len(np.unique(all_events))"
   ]
  },
  {
   "cell_type": "code",
   "execution_count": null,
   "metadata": {},
   "outputs": [],
   "source": []
  }
 ],
 "metadata": {
  "kernelspec": {
   "display_name": "venv",
   "language": "python",
   "name": "python3"
  },
  "language_info": {
   "codemirror_mode": {
    "name": "ipython",
    "version": 3
   },
   "file_extension": ".py",
   "mimetype": "text/x-python",
   "name": "python",
   "nbconvert_exporter": "python",
   "pygments_lexer": "ipython3",
   "version": "3.10.9"
  },
  "orig_nbformat": 4,
  "vscode": {
   "interpreter": {
    "hash": "5160bd6ba1ae2f4a0071f42e7bc8b89349586b910ad8a7171be7de3c4eee52b6"
   }
  }
 },
 "nbformat": 4,
 "nbformat_minor": 2
}
