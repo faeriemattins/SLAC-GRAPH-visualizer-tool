{
 "cells": [
  {
   "cell_type": "markdown",
   "id": "d0174a3d",
   "metadata": {},
   "source": [
    "# Import Libraries"
   ]
  },
  {
   "cell_type": "code",
   "execution_count": 1,
   "id": "ff224df8",
   "metadata": {},
   "outputs": [],
   "source": [
    "from tqdm import tqdm\n",
    "import pandas as pd\n",
    "import numpy as np\n",
    "from PIL import Image, ImageDraw, ImageFont"
   ]
  },
  {
   "cell_type": "code",
   "execution_count": 2,
   "id": "17a5f62a",
   "metadata": {},
   "outputs": [],
   "source": [
    "from utils import load_sessions, read_session\n",
    "from main import generate_buffer\n",
    "from events import generate_event_seq\n",
    "from summary import stats"
   ]
  },
  {
   "cell_type": "markdown",
   "id": "1d4057db",
   "metadata": {},
   "source": [
    "# Load Session"
   ]
  },
  {
   "cell_type": "code",
   "execution_count": 13,
   "id": "6b4d6cd7",
   "metadata": {},
   "outputs": [
    {
     "name": "stdout",
     "output_type": "stream",
     "text": [
      "Successfully downloaded 1447 writing sessions in CoAuthor!\n",
      "./coauthor-v1.0/c499d0dc0119445abc11ed50c2826113.jsonl\n"
     ]
    }
   ],
   "source": [
    "session = load_sessions()\n",
    "\n",
    "for idx, sess in enumerate(session):\n",
    "    if sess == \"./coauthor-v1.0/7c1e066d0c9c4901921cab117a0b7e73.jsonl\":\n",
    "        break\n",
    "        \n",
    "# session = session[idx]\n",
    "session = session[4]\n",
    "print(session)"
   ]
  },
  {
   "cell_type": "markdown",
   "id": "1d058dfd",
   "metadata": {},
   "source": [
    "# Compute Event Sequence"
   ]
  },
  {
   "cell_type": "code",
   "execution_count": 4,
   "id": "e5c912f0",
   "metadata": {},
   "outputs": [],
   "source": [
    "events = read_session(session, verbose=0)\n",
    "text_buffer = generate_buffer(events)\n",
    "event_seq_dict = generate_event_seq(buffer=text_buffer, events=events)"
   ]
  },
  {
   "cell_type": "markdown",
   "id": "2bc47cb2",
   "metadata": {},
   "source": [
    "# Graph Config"
   ]
  },
  {
   "cell_type": "code",
   "execution_count": 5,
   "id": "96d9965e",
   "metadata": {},
   "outputs": [],
   "source": [
    "margin = 25\n",
    "# circle_size = 50\n",
    "circle_size = 20\n",
    "sentence_margin = 80\n",
    "\n",
    "x_padding = 50\n",
    "y_padding = 30\n",
    "\n",
    "line_size = x_padding"
   ]
  },
  {
   "cell_type": "code",
   "execution_count": 6,
   "id": "94940b59",
   "metadata": {},
   "outputs": [],
   "source": [
    "y_len = len(event_seq_dict[\"num_sent\"]) - 1\n",
    "x_len = np.max([len(x) for x in event_seq_dict[\"sequence\"]]) - 1\n",
    "image_height = (margin * 2) + (y_padding * y_len) + circle_size\n",
    "image_width = sentence_margin + (margin * 2) + (x_padding * x_len) + circle_size"
   ]
  },
  {
   "cell_type": "markdown",
   "id": "f3a72907",
   "metadata": {},
   "source": [
    "# Initialize Graph"
   ]
  },
  {
   "cell_type": "code",
   "execution_count": 7,
   "id": "a807193d",
   "metadata": {},
   "outputs": [],
   "source": [
    "image = Image.new(\"RGB\", (image_width, image_height), \"white\")\n",
    "draw = ImageDraw.Draw(image)\n",
    "font = ImageFont.load_default()"
   ]
  },
  {
   "cell_type": "markdown",
   "id": "31d9d82d",
   "metadata": {},
   "source": [
    "# Define Graph Function"
   ]
  },
  {
   "cell_type": "code",
   "execution_count": 8,
   "id": "cc8d3582",
   "metadata": {},
   "outputs": [],
   "source": [
    "def user_square(x, y):\n",
    "    x -= 1\n",
    "    y -= 1\n",
    "    x_start = sentence_margin + margin + x_padding * x\n",
    "    y_start = margin + y_padding * y\n",
    "#     draw.ellipse((x_start, y_start, x_start+circle_size, y_start+circle_size), \n",
    "#                  fill = (100, 255, 100, 255), outline ='black')\n",
    "    draw.rectangle((x_start, y_start, x_start+circle_size, y_start+circle_size),\n",
    "                   fill = (100, 255, 100, 255), outline ='black')\n",
    "\n",
    "def text(text, y):\n",
    "    y -= 1\n",
    "    x_start = margin\n",
    "    y_start = margin + (circle_size/3) + y_padding * y\n",
    "    draw.text((x_start,y_start), text, fill='black', font=font)\n",
    "\n",
    "\n",
    "def gpt_triangle(x, y):\n",
    "    x -= 1\n",
    "    y -= 1\n",
    "    x_start = sentence_margin + margin + x_padding * x\n",
    "    y_start = margin + y_padding * y\n",
    "#     draw.ellipse((x_start, y_start, x_start+circle_size, y_start+circle_size), \n",
    "#                  fill = \"red\", outline ='black')\n",
    "    draw.polygon([(x_start+circle_size/2, y_start), (x_start, y_start+circle_size), \n",
    "                  (x_start+circle_size,y_start+circle_size)],\n",
    "                 fill = \"blue\", outline ='black')\n",
    "\n",
    "\n",
    "def prompt_circle(x, y):\n",
    "    x -= 1\n",
    "    y -= 1\n",
    "    x_start = sentence_margin + margin + x_padding * x\n",
    "    y_start = margin + y_padding * y\n",
    "    draw.ellipse((x_start, y_start, x_start+circle_size, y_start+circle_size), \n",
    "                 fill = \"black\", outline ='black')\n",
    "    \n",
    "\n",
    "def modified_triangle(x, y):\n",
    "    x -= 1\n",
    "    y -= 1\n",
    "    x_start = sentence_margin + margin + x_padding * x\n",
    "    y_start = margin + y_padding * y\n",
    "    draw.polygon([(x_start+circle_size/2, y_start), (x_start, y_start+circle_size), \n",
    "                  (x_start+circle_size,y_start+circle_size)],\n",
    "                 fill = \"grey\", outline ='black')\n",
    "    \n",
    "\n",
    "def empty_triangle(x, y):\n",
    "    x -= 1\n",
    "    y -= 1\n",
    "    x_start = sentence_margin + margin + x_padding * x\n",
    "    y_start = margin + y_padding * y\n",
    "    draw.polygon([(x_start+circle_size/2, y_start), (x_start, y_start+circle_size), \n",
    "                  (x_start+circle_size,y_start+circle_size)],\n",
    "                 fill = \"white\", outline ='black')\n",
    "    \n",
    "\n",
    "def suggestion_open(x, y):\n",
    "    x -= 1\n",
    "    y -= 1\n",
    "    x_start = sentence_margin + margin + x_padding * x + circle_size/2\n",
    "    y_start = margin + (circle_size/2) + y_padding * y\n",
    "#     draw.line([(x_start, y_start),\n",
    "#               (x_start+line_size, y_start)], fill='red', width=3)\n",
    "    draw.line([(x_start, y_start),\n",
    "              (x_start-line_size, y_start)], fill='red', width=3)\n",
    "\n",
    "def user_change(x, y):\n",
    "    x -= 1\n",
    "    y -= 1\n",
    "    x_start = sentence_margin + margin + x_padding * x + circle_size/2\n",
    "    y_start = margin + (circle_size/2) + y_padding * y\n",
    "#     draw.line([(x_start, y_start),\n",
    "#               (x_start-line_size, y_start)], fill= (100, 255, 100, 255), width=3)\n",
    "    # Dotted line\n",
    "    x_start = int(x_start)\n",
    "    for dash in range(x_start, x_start-line_size, -4):\n",
    "        draw.line([(dash, y_start), (dash-2, y_start)], fill=\"orange\", width=3)"
   ]
  },
  {
   "cell_type": "markdown",
   "id": "18da48a8",
   "metadata": {},
   "source": [
    "# Draw Graph"
   ]
  },
  {
   "cell_type": "code",
   "execution_count": 9,
   "id": "67edc9c7",
   "metadata": {},
   "outputs": [],
   "source": [
    "for idx, event_seq in enumerate(event_seq_dict[\"sequence\"]):\n",
    "    image_text = \"Sentence \" + str(idx+1)\n",
    "    text(image_text, idx+1)\n",
    "    for i, op in enumerate(event_seq):\n",
    "        if op == \"gpt3-call\" and i != 0:\n",
    "            suggestion_open(i+1, idx+1)\n",
    "        if op == \"user\" and i != 0:\n",
    "            user_change(i+1, idx+1)\n",
    "        if op == \"modify-gpt3\" and i != 0:\n",
    "            user_change(i+1, idx+1)\n",
    "        if op == \"empty-call\" and i != 0:\n",
    "            suggestion_open(i+1, idx+1)\n",
    "\n",
    "            \n",
    "for idx, event_seq in enumerate(event_seq_dict[\"sequence\"]):\n",
    "    image_text = \"Sentence \" + str(idx+1)\n",
    "    text(image_text, idx+1)\n",
    "    for i, op in enumerate(event_seq):\n",
    "        if op == \"gpt3-call\":\n",
    "            gpt_triangle(i+1, idx+1)\n",
    "        if op == \"user\":\n",
    "            user_square(i+1, idx+1)\n",
    "        if op == \"prompt\":\n",
    "            prompt_circle(i+1, idx+1)\n",
    "        if op == \"modify-gpt3\":\n",
    "            modified_triangle(i+1, idx+1)\n",
    "        if op == \"empty-call\":\n",
    "            empty_triangle(i+1, idx+1)"
   ]
  },
  {
   "cell_type": "markdown",
   "id": "d5eceda5",
   "metadata": {},
   "source": [
    "# Display Graph"
   ]
  },
  {
   "cell_type": "code",
   "execution_count": 10,
   "id": "15e2bcc8",
   "metadata": {
    "scrolled": true
   },
   "outputs": [
    {
     "data": {
      "image/png": "[encoded data removed]",
      "text/plain": [
       "<PIL.Image.Image image mode=RGB size=350x430>"
      ]
     },
     "metadata": {},
     "output_type": "display_data"
    }
   ],
   "source": [
    "display(image)"
   ]
  },
  {
   "cell_type": "markdown",
   "id": "bd8739a2",
   "metadata": {},
   "source": [
    "# Draw Graph Legend"
   ]
  },
  {
   "cell_type": "code",
   "execution_count": 11,
   "id": "5eebb719",
   "metadata": {},
   "outputs": [],
   "source": [
    "image = Image.new(\"RGB\", (100, 100), \"white\")\n",
    "draw = ImageDraw.Draw(image)\n",
    "font = ImageFont.load_default()"
   ]
  },
  {
   "cell_type": "code",
   "execution_count": 12,
   "id": "d9c67390",
   "metadata": {},
   "outputs": [
    {
     "data": {
      "image/png": "[encoded data removed]",
      "text/plain": [
       "<PIL.Image.Image image mode=RGB size=100x100>"
      ]
     },
     "metadata": {},
     "output_type": "display_data"
    }
   ],
   "source": [
    "display(image)"
   ]
  },
  {
   "cell_type": "code",
   "execution_count": null,
   "id": "7678f85c",
   "metadata": {},
   "outputs": [],
   "source": []
  }
 ],
 "metadata": {
  "kernelspec": {
   "display_name": "Python 3 (ipykernel)",
   "language": "python",
   "name": "python3"
  },
  "language_info": {
   "codemirror_mode": {
    "name": "ipython",
    "version": 3
   },
   "file_extension": ".py",
   "mimetype": "text/x-python",
   "name": "python",
   "nbconvert_exporter": "python",
   "pygments_lexer": "ipython3",
   "version": "3.9.2"
  }
 },
 "nbformat": 4,
 "nbformat_minor": 5
}
