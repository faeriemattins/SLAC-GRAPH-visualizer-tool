{
 "cells": [
  {
   "cell_type": "markdown",
   "metadata": {},
   "source": [
    "# TRIAL NOTEBOOK"
   ]
  },
  {
   "cell_type": "markdown",
   "metadata": {},
   "source": [
    "## Import Libraries"
   ]
  },
  {
   "cell_type": "code",
   "execution_count": null,
   "metadata": {},
   "outputs": [],
   "source": [
    "import os\n",
    "import time\n",
    "import pandas as pd\n",
    "import nltk\n",
    "import numpy as np"
   ]
  },
  {
   "cell_type": "markdown",
   "metadata": {},
   "source": [
    "## Download NLTK Resources"
   ]
  },
  {
   "cell_type": "code",
   "execution_count": null,
   "metadata": {},
   "outputs": [],
   "source": [
    "# !mkdir -p ~/nltk_data\n",
    "# !git clone https://github.com/nltk/nltk_data.git\n",
    "# !mv nltk_data/packages/* ~/nltk_data/\n",
    "# !rm -rf nltk_data\n",
    "\n",
    "# # Unzip punkt\n",
    "# !WORK_DIR=$(pwd)\n",
    "# !cd ~/nltk_data/tokenizers/\n",
    "# !unzip punkt.zip\n",
    "# !rm punkt.zip\n",
    "\n",
    "# !cd $WORK_DIR"
   ]
  },
  {
   "cell_type": "markdown",
   "metadata": {},
   "source": [
    "## Import helper functions"
   ]
  },
  {
   "cell_type": "code",
   "execution_count": null,
   "metadata": {},
   "outputs": [],
   "source": [
    "from utils import load_sessions, read_session, read_file\n",
    "from operations import build_text"
   ]
  },
  {
   "cell_type": "markdown",
   "metadata": {},
   "source": [
    "## Read File and Load Events"
   ]
  },
  {
   "cell_type": "code",
   "execution_count": null,
   "metadata": {},
   "outputs": [],
   "source": [
    "events = read_file(\"7c1e066d0c9c4901921cab117a0b7e73.jsonl\")\n",
    "# events = read_file(\"0a8e182a20df447db4846b1223c619b5.jsonl\")"
   ]
  },
  {
   "cell_type": "markdown",
   "metadata": {},
   "source": [
    "## Build Text Buffer"
   ]
  },
  {
   "cell_type": "code",
   "execution_count": null,
   "metadata": {},
   "outputs": [],
   "source": [
    "text_buffer = []"
   ]
  },
  {
   "cell_type": "code",
   "execution_count": null,
   "metadata": {},
   "outputs": [],
   "source": [
    "for event in events:\n",
    "    buffer = build_text(text_buffer, event)\n",
    "    text_buffer.append(buffer)"
   ]
  },
  {
   "cell_type": "markdown",
   "metadata": {},
   "source": [
    "## Initialize DataFrame"
   ]
  },
  {
   "cell_type": "code",
   "execution_count": null,
   "metadata": {},
   "outputs": [],
   "source": [
    "df = pd.DataFrame()"
   ]
  },
  {
   "cell_type": "code",
   "execution_count": null,
   "metadata": {},
   "outputs": [],
   "source": [
    "df[\"text_buffer\"] = text_buffer\n",
    "df[\"events\"] = events"
   ]
  },
  {
   "cell_type": "code",
   "execution_count": null,
   "metadata": {},
   "outputs": [],
   "source": [
    "df.head()"
   ]
  },
  {
   "cell_type": "markdown",
   "metadata": {},
   "source": [
    "## Extract Sentences"
   ]
  },
  {
   "cell_type": "code",
   "execution_count": null,
   "metadata": {},
   "outputs": [],
   "source": [
    "# Add sentences\n",
    "\n",
    "sentence_buffer = []\n",
    "num_sentences = []\n",
    "\n",
    "for text in df[\"text_buffer\"]:\n",
    "    sentences = nltk.tokenize.sent_tokenize(text)\n",
    "    sentence_buffer.append(sentences)\n",
    "    num_sentences.append(len(sentences))"
   ]
  },
  {
   "cell_type": "code",
   "execution_count": null,
   "metadata": {},
   "outputs": [],
   "source": [
    "df[\"sentences\"] = sentence_buffer\n",
    "df[\"num_sentences\"] = num_sentences"
   ]
  },
  {
   "cell_type": "code",
   "execution_count": null,
   "metadata": {},
   "outputs": [],
   "source": [
    "df.head()"
   ]
  },
  {
   "cell_type": "markdown",
   "metadata": {},
   "source": [
    "## Extract Event Names"
   ]
  },
  {
   "cell_type": "code",
   "execution_count": null,
   "metadata": {},
   "outputs": [],
   "source": [
    "df[\"event_name\"] = df[\"events\"].apply(lambda x: x[\"eventName\"])"
   ]
  },
  {
   "cell_type": "code",
   "execution_count": null,
   "metadata": {},
   "outputs": [],
   "source": [
    "df.head()"
   ]
  },
  {
   "cell_type": "markdown",
   "metadata": {},
   "source": [
    "## Correct Number of Sentences in accordance to Event Name"
   ]
  },
  {
   "cell_type": "code",
   "execution_count": null,
   "metadata": {},
   "outputs": [],
   "source": [
    "df = df.groupby(\"num_sentences\", group_keys=True).apply(lambda x: x)\n",
    "df = df.sort_index()"
   ]
  },
  {
   "cell_type": "code",
   "execution_count": null,
   "metadata": {},
   "outputs": [],
   "source": [
    "df.head()"
   ]
  },
  {
   "cell_type": "code",
   "execution_count": null,
   "metadata": {},
   "outputs": [],
   "source": [
    "num_sentences = np.array(df[\"num_sentences\"])\n",
    "event_names = np.array(df[\"event_name\"])"
   ]
  },
  {
   "cell_type": "code",
   "execution_count": null,
   "metadata": {},
   "outputs": [],
   "source": [
    "start_idx = 0\n",
    "select_flag = False\n",
    "\n",
    "for idx, event in enumerate(event_names):\n",
    "    if event == \"suggestion-get\":\n",
    "        start_idx = idx\n",
    "    if event == \"suggestion-select\":\n",
    "        select_flag = True\n",
    "    if select_flag and event == \"text-insert\":\n",
    "        if num_sentences[start_idx] == num_sentences[idx]:\n",
    "            end_idx = idx + 1\n",
    "        elif num_sentences[start_idx] < num_sentences[idx]:\n",
    "            end_idx = idx\n",
    "        for i in range(start_idx, end_idx):\n",
    "            num_sentences[i] += 1\n",
    "        select_flag = False"
   ]
  },
  {
   "cell_type": "code",
   "execution_count": null,
   "metadata": {},
   "outputs": [],
   "source": [
    "# for idx, _ in enumerate(event_names):\n",
    "#     print(num_sentences[idx], event_names[idx])"
   ]
  },
  {
   "cell_type": "code",
   "execution_count": null,
   "metadata": {},
   "outputs": [],
   "source": [
    "df[\"num_sentences\"] = num_sentences"
   ]
  },
  {
   "cell_type": "markdown",
   "metadata": {},
   "source": [
    "## Compute Sentence and Event Sequence"
   ]
  },
  {
   "cell_type": "code",
   "execution_count": null,
   "metadata": {},
   "outputs": [],
   "source": [
    "# np.unique(df[\"num_sentences\"])"
   ]
  },
  {
   "cell_type": "code",
   "execution_count": null,
   "metadata": {},
   "outputs": [],
   "source": [
    "def compute_seq(events):\n",
    "    \n",
    "    # Remove suggestion-open, suggestion-hover\n",
    "    events = np.delete(events, np.where(events == \"suggestion-open\"))\n",
    "    events = np.delete(events, np.where(events == \"suggestion-hover\"))\n",
    "    \n",
    "    # Remove text-insert after suggestion-select\n",
    "    select_flag = False\n",
    "    new_events = []\n",
    "    for idx, event in enumerate(events):\n",
    "        if event == \"suggestion-select\":\n",
    "            select_flag = True\n",
    "        if event == \"text-insert\" and select_flag:\n",
    "            select_flag = False\n",
    "            continue\n",
    "        new_events.append(event)\n",
    "    events = np.array(new_events)\n",
    "    \n",
    "    # Identify GPT-3 modifications\n",
    "    select_flag = False\n",
    "    new_events = []\n",
    "    for idx, event in enumerate(events):\n",
    "        if event == \"suggestion-select\":\n",
    "            select_flag = True\n",
    "        if event == \"text-insert\":\n",
    "            select_flag = False\n",
    "        if (event == \"cursor-backward\" or event == \"cursor-select\" or event == \"text-delete\") and select_flag:\n",
    "            select_flag = False\n",
    "            event = \"gpt3-modify\"\n",
    "        new_events.append(event)\n",
    "    events = np.array(new_events)\n",
    "    \n",
    "    # Remove cursor-forward, cursor-backward, cursor-select\n",
    "    events = np.delete(events, np.where(events == \"cursor-forward\"))\n",
    "    events = np.delete(events, np.where(events == \"cursor-backward\"))\n",
    "    events = np.delete(events, np.where(events == \"cursor-select\"))\n",
    "    \n",
    "    # Remove text-delete\n",
    "    events = np.delete(events, np.where(events == \"text-delete\"))\n",
    "    \n",
    "    # Remove suggestion-close\n",
    "    events = np.delete(events, np.where(events == \"suggestion-close\"))\n",
    "    \n",
    "    # Identify GTP-3 calls\n",
    "    events = events.tolist()\n",
    "    start_idx = 0\n",
    "    api_flag = False\n",
    "    pop_idx = []\n",
    "    for idx, event in enumerate(events):\n",
    "        if event == \"suggestion-get\":\n",
    "            start_idx = idx\n",
    "            api_flag = True\n",
    "        if event == \"suggestion-select\" and api_flag:\n",
    "            api_flag = False\n",
    "            for i in range(start_idx, idx):\n",
    "                pop_idx.append(i)\n",
    "    events = np.array(events)\n",
    "    events = np.delete(events, pop_idx)\n",
    "    \n",
    "    # Group together text-inserts\n",
    "    new_events = []\n",
    "    temp = []\n",
    "    for event in events:\n",
    "        if event == \"text-insert\":\n",
    "            temp.append(event)\n",
    "        else:\n",
    "            if len(temp) != 0:\n",
    "                new_events.append(\"text-insert\")\n",
    "            new_events.append(event)\n",
    "            temp = []\n",
    "    if len(temp) != 0:\n",
    "        new_events.append(\"text-insert\")\n",
    "    events = np.array(new_events)\n",
    "    \n",
    "    # Rename sequences\n",
    "    seq_name_dict = {\n",
    "        \"system-initialize\": \"prompt\",\n",
    "        \"text-insert\": \"user\",\n",
    "        \"suggestion-get\": \"empty-call\",\n",
    "        \"suggestion-select\": \"gpt3-call\",\n",
    "        \"gpt3-modify\": \"modify-gpt3\",\n",
    "    }\n",
    "    new_events = [seq_name_dict[event] for event in events]\n",
    "    events = np.array(new_events)\n",
    "    \n",
    "    return events"
   ]
  },
  {
   "cell_type": "code",
   "execution_count": null,
   "metadata": {},
   "outputs": [],
   "source": [
    "for num in np.unique(df[\"num_sentences\"]):\n",
    "    sent = np.array(df[df[\"num_sentences\"] == num][\"text_buffer\"])[-1]\n",
    "    event_seq = np.array(df[df[\"num_sentences\"] == num][\"event_name\"])\n",
    "    print(num, compute_seq(event_seq))"
   ]
  },
  {
   "cell_type": "markdown",
   "metadata": {},
   "source": [
    "## Generate Graph"
   ]
  },
  {
   "cell_type": "code",
   "execution_count": null,
   "metadata": {},
   "outputs": [],
   "source": [
    "from PIL import Image, ImageDraw, ImageFont\n",
    "import math"
   ]
  },
  {
   "cell_type": "code",
   "execution_count": null,
   "metadata": {},
   "outputs": [],
   "source": [
    "image = Image.new(\"RGB\", (600, 4500), \"white\")\n",
    "draw = ImageDraw.Draw(image)\n",
    "font = ImageFont.load_default()\n",
    "\n",
    "margin = 25\n",
    "circle_size = 50\n",
    "sentence_margin = 80\n",
    "line_size = 30"
   ]
  },
  {
   "cell_type": "code",
   "execution_count": null,
   "metadata": {},
   "outputs": [],
   "source": [
    "def user_circle(x, y):\n",
    "    x -= 1\n",
    "    y -= 1\n",
    "    x_start = sentence_margin + margin + 80 * x\n",
    "    y_start = margin + 80 * y\n",
    "    draw.ellipse((x_start, y_start, x_start+circle_size, y_start+circle_size), \n",
    "                 fill = (100, 255, 100, 255), outline ='black')\n",
    "\n",
    "def text(text, y):\n",
    "    y -= 1\n",
    "    x_start = margin\n",
    "    y_start = margin + (circle_size*2/5) + 80 * y\n",
    "    draw.text((x_start,y_start), text, fill='black', font=font)\n",
    "\n",
    "\n",
    "def gpt_circle(x, y):\n",
    "    x -= 1\n",
    "    y -= 1\n",
    "    x_start = sentence_margin + margin + 80 * x\n",
    "    y_start = margin + 80 * y\n",
    "    draw.ellipse((x_start, y_start, x_start+circle_size, y_start+circle_size), \n",
    "                 fill = \"red\", outline ='black')\n",
    "\n",
    "\n",
    "def prompt_circle(x, y):\n",
    "    x -= 1\n",
    "    y -= 1\n",
    "    x_start = sentence_margin + margin + 80 * x\n",
    "    y_start = margin + 80 * y\n",
    "    draw.ellipse((x_start, y_start, x_start+circle_size, y_start+circle_size), \n",
    "                 fill = \"black\", outline ='black')\n",
    "    \n",
    "\n",
    "def modified_circle(x, y):\n",
    "    x -= 1\n",
    "    y -= 1\n",
    "    x_start = sentence_margin + margin + 80 * x\n",
    "    y_start = margin + 80 * y\n",
    "    draw.ellipse((x_start, y_start, x_start+circle_size, y_start+circle_size), \n",
    "                 fill = \"yellow\", outline ='black')\n",
    "    \n",
    "\n",
    "def empty_circle(x, y):\n",
    "    x -= 1\n",
    "    y -= 1\n",
    "    x_start = sentence_margin + margin + 80 * x\n",
    "    y_start = margin + 80 * y\n",
    "    draw.ellipse((x_start, y_start, x_start+circle_size, y_start+circle_size), \n",
    "                 fill = \"white\", outline ='black')\n",
    "    \n",
    "\n",
    "def suggestion_open(x, y):\n",
    "    x -= 1\n",
    "    y -= 1\n",
    "    x_start = margin + circle_size + 80 * x\n",
    "    y_start = margin + (circle_size/2) + 80 * y\n",
    "    draw.line([(x_start, y_start),\n",
    "              (x_start+line_size, y_start)], fill='red', width=3)\n",
    "\n",
    "def user_change(x, y):\n",
    "    x -= 1\n",
    "    y -= 1\n",
    "    x_start = margin + circle_size + 80 * x\n",
    "    y_start = margin + (circle_size/2) + 80 * y\n",
    "    draw.line([(x_start, y_start),\n",
    "              (x_start+line_size, y_start)], fill= (100, 255, 100, 255), width=3)"
   ]
  },
  {
   "cell_type": "code",
   "execution_count": null,
   "metadata": {},
   "outputs": [],
   "source": [
    "for idx, num in enumerate(np.unique(df[\"num_sentences\"])):\n",
    "    event_seq = np.array(df[df[\"num_sentences\"] == num][\"event_name\"])\n",
    "    image_text = \"Sentence \" + str(idx+1)\n",
    "    text(image_text, idx+1)\n",
    "    for i, op in enumerate(compute_seq(event_seq)):\n",
    "        if op == \"gpt3-call\":\n",
    "            if i != 0:\n",
    "                suggestion_open(i+1, idx+1)\n",
    "            gpt_circle(i+1, idx+1)\n",
    "        if op == \"user\":\n",
    "            if i != 0:\n",
    "                user_change(i+1, idx+1)\n",
    "            user_circle(i+1, idx+1)\n",
    "        if op == \"prompt\":\n",
    "            prompt_circle(i+1, idx+1)\n",
    "        if op == \"modify-gpt3\":\n",
    "            if i != 0:\n",
    "                user_change(i+1, idx+1)\n",
    "            modified_circle(i+1, idx+1)\n",
    "        if op == \"empty-call\":\n",
    "            if i != 0:\n",
    "                suggestion_open(i+1, idx+1)\n",
    "            empty_circle(i+1, idx+1)"
   ]
  },
  {
   "cell_type": "code",
   "execution_count": null,
   "metadata": {},
   "outputs": [],
   "source": [
    "display(image)"
   ]
  },
  {
   "cell_type": "code",
   "execution_count": null,
   "metadata": {},
   "outputs": [],
   "source": [
    "# LEGEND: CIRCLES\n",
    "# Prompt     -> black\n",
    "# GPT-3      -> red (change color; shape triangle)\n",
    "# User       -> green (change color; shape rectangle)\n",
    "# Empty call -> white\n",
    "# Modify     -> yellow\n",
    "\n",
    "# LEGEND: LINES\n",
    "# API Call    -> red\n",
    "# User Edits  -> green (dashed line)"
   ]
  },
  {
   "cell_type": "code",
   "execution_count": null,
   "metadata": {},
   "outputs": [],
   "source": [
    "# https://www.color-blindness.com/coblis-color-blindness-simulator/"
   ]
  }
 ],
 "metadata": {
  "kernelspec": {
   "display_name": "Python 3 (ipykernel)",
   "language": "python",
   "name": "python3"
  },
  "language_info": {
   "codemirror_mode": {
    "name": "ipython",
    "version": 3
   },
   "file_extension": ".py",
   "mimetype": "text/x-python",
   "name": "python",
   "nbconvert_exporter": "python",
   "pygments_lexer": "ipython3",
   "version": "3.10.6"
  },
  "vscode": {
   "interpreter": {
    "hash": "5160bd6ba1ae2f4a0071f42e7bc8b89349586b910ad8a7171be7de3c4eee52b6"
   }
  }
 },
 "nbformat": 4,
 "nbformat_minor": 2
}
