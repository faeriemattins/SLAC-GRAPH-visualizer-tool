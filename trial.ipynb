{
 "cells": [
  {
   "cell_type": "markdown",
   "metadata": {},
   "source": [
    "# TRIAL NOTEBOOK"
   ]
  },
  {
   "cell_type": "markdown",
   "metadata": {},
   "source": [
    "## Import Libraries"
   ]
  },
  {
   "cell_type": "code",
   "execution_count": 1,
   "metadata": {},
   "outputs": [],
   "source": [
    "import os\n",
    "import time\n",
    "import pandas as pd\n",
    "import nltk"
   ]
  },
  {
   "cell_type": "markdown",
   "metadata": {},
   "source": [
    "## Download NLTK Resources"
   ]
  },
  {
   "cell_type": "code",
   "execution_count": 2,
   "metadata": {},
   "outputs": [],
   "source": [
    "# !mkdir -p ~/nltk_data\n",
    "# !git clone https://github.com/nltk/nltk_data.git\n",
    "# !mv nltk_data/packages/* ~/nltk_data/\n",
    "# !rm -rf nltk_data\n",
    "\n",
    "# Unzip punkt\n",
    "# !WORK_DIR=$(pwd)\n",
    "# !cd ~/nltk_data/tokenizers/\n",
    "# !unzip punkt.zip\n",
    "# !rm punkt.zip\n",
    "# !cd $WORK_DIR"
   ]
  },
  {
   "cell_type": "markdown",
   "metadata": {},
   "source": [
    "## Import helper functions"
   ]
  },
  {
   "cell_type": "code",
   "execution_count": 3,
   "metadata": {},
   "outputs": [],
   "source": [
    "from utils import load_sessions, read_session, read_file\n",
    "from operations import build_text"
   ]
  },
  {
   "cell_type": "markdown",
   "metadata": {},
   "source": [
    "## Read File and Load Events"
   ]
  },
  {
   "cell_type": "code",
   "execution_count": 4,
   "metadata": {},
   "outputs": [
    {
     "name": "stdout",
     "output_type": "stream",
     "text": [
      "Successfully read 1504 events in a writing session from ./coauthor-v1.0/7c1e066d0c9c4901921cab117a0b7e73.jsonl\n"
     ]
    }
   ],
   "source": [
    "events = read_file(\"7c1e066d0c9c4901921cab117a0b7e73.jsonl\")"
   ]
  },
  {
   "cell_type": "markdown",
   "metadata": {},
   "source": [
    "## Build Text Buffer"
   ]
  },
  {
   "cell_type": "code",
   "execution_count": 5,
   "metadata": {},
   "outputs": [],
   "source": [
    "text_buffer = []"
   ]
  },
  {
   "cell_type": "code",
   "execution_count": 6,
   "metadata": {},
   "outputs": [],
   "source": [
    "for event in events:\n",
    "    buffer = build_text(text_buffer, event)\n",
    "    text_buffer.append(buffer)"
   ]
  },
  {
   "cell_type": "markdown",
   "metadata": {},
   "source": [
    "## Initialize DataFrame"
   ]
  },
  {
   "cell_type": "code",
   "execution_count": 7,
   "metadata": {},
   "outputs": [],
   "source": [
    "df = pd.DataFrame()"
   ]
  },
  {
   "cell_type": "code",
   "execution_count": 8,
   "metadata": {},
   "outputs": [],
   "source": [
    "df[\"text_buffer\"] = text_buffer\n",
    "df[\"events\"] = events"
   ]
  },
  {
   "cell_type": "code",
   "execution_count": 9,
   "metadata": {},
   "outputs": [
    {
     "data": {
      "text/html": [
       "<div>\n",
       "<style scoped>\n",
       "    .dataframe tbody tr th:only-of-type {\n",
       "        vertical-align: middle;\n",
       "    }\n",
       "\n",
       "    .dataframe tbody tr th {\n",
       "        vertical-align: top;\n",
       "    }\n",
       "\n",
       "    .dataframe thead th {\n",
       "        text-align: right;\n",
       "    }\n",
       "</style>\n",
       "<table border=\"1\" class=\"dataframe\">\n",
       "  <thead>\n",
       "    <tr style=\"text-align: right;\">\n",
       "      <th></th>\n",
       "      <th>text_buffer</th>\n",
       "      <th>events</th>\n",
       "    </tr>\n",
       "  </thead>\n",
       "  <tbody>\n",
       "    <tr>\n",
       "      <th>0</th>\n",
       "      <td>A woman has been dating guy after guy, but it ...</td>\n",
       "      <td>{'eventName': 'system-initialize', 'eventSourc...</td>\n",
       "    </tr>\n",
       "    <tr>\n",
       "      <th>1</th>\n",
       "      <td>A woman has been dating guy after guy, but it ...</td>\n",
       "      <td>{'eventName': 'text-insert', 'eventSource': 'u...</td>\n",
       "    </tr>\n",
       "    <tr>\n",
       "      <th>2</th>\n",
       "      <td>A woman has been dating guy after guy, but it ...</td>\n",
       "      <td>{'eventName': 'text-insert', 'eventSource': 'u...</td>\n",
       "    </tr>\n",
       "    <tr>\n",
       "      <th>3</th>\n",
       "      <td>A woman has been dating guy after guy, but it ...</td>\n",
       "      <td>{'eventName': 'suggestion-get', 'eventSource':...</td>\n",
       "    </tr>\n",
       "    <tr>\n",
       "      <th>4</th>\n",
       "      <td>A woman has been dating guy after guy, but it ...</td>\n",
       "      <td>{'eventName': 'suggestion-open', 'eventSource'...</td>\n",
       "    </tr>\n",
       "  </tbody>\n",
       "</table>\n",
       "</div>"
      ],
      "text/plain": [
       "                                         text_buffer  \\\n",
       "0  A woman has been dating guy after guy, but it ...   \n",
       "1  A woman has been dating guy after guy, but it ...   \n",
       "2  A woman has been dating guy after guy, but it ...   \n",
       "3  A woman has been dating guy after guy, but it ...   \n",
       "4  A woman has been dating guy after guy, but it ...   \n",
       "\n",
       "                                              events  \n",
       "0  {'eventName': 'system-initialize', 'eventSourc...  \n",
       "1  {'eventName': 'text-insert', 'eventSource': 'u...  \n",
       "2  {'eventName': 'text-insert', 'eventSource': 'u...  \n",
       "3  {'eventName': 'suggestion-get', 'eventSource':...  \n",
       "4  {'eventName': 'suggestion-open', 'eventSource'...  "
      ]
     },
     "execution_count": 9,
     "metadata": {},
     "output_type": "execute_result"
    }
   ],
   "source": [
    "df.head()"
   ]
  },
  {
   "cell_type": "markdown",
   "metadata": {},
   "source": [
    "## Extract Sentences"
   ]
  },
  {
   "cell_type": "code",
   "execution_count": 11,
   "metadata": {},
   "outputs": [],
   "source": [
    "# Add sentences\n",
    "\n",
    "sentence_buffer = []\n",
    "\n",
    "for text in df[\"text_buffer\"]:\n",
    "    sentences = nltk.tokenize.sent_tokenize(text)\n",
    "    sentence_buffer.append(sentences)"
   ]
  },
  {
   "cell_type": "code",
   "execution_count": null,
   "metadata": {},
   "outputs": [],
   "source": []
  }
 ],
 "metadata": {
  "kernelspec": {
   "display_name": "venv",
   "language": "python",
   "name": "venv"
  },
  "language_info": {
   "codemirror_mode": {
    "name": "ipython",
    "version": 3
   },
   "file_extension": ".py",
   "mimetype": "text/x-python",
   "name": "python",
   "nbconvert_exporter": "python",
   "pygments_lexer": "ipython3",
   "version": "3.10.9"
  },
  "vscode": {
   "interpreter": {
    "hash": "5160bd6ba1ae2f4a0071f42e7bc8b89349586b910ad8a7171be7de3c4eee52b6"
   }
  }
 },
 "nbformat": 4,
 "nbformat_minor": 2
}
