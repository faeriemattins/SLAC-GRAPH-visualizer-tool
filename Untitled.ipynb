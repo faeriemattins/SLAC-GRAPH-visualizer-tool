{
 "cells": [
  {
   "cell_type": "markdown",
   "id": "6824cd57",
   "metadata": {},
   "source": [
    "# Build sentences from JSONL files and export to CSV"
   ]
  },
  {
   "cell_type": "code",
   "execution_count": 1,
   "id": "b8d65f9a",
   "metadata": {},
   "outputs": [
    {
     "name": "stdout",
     "output_type": "stream",
     "text": [
      "Successfully downloaded 1447 writing sessions in CoAuthor!\n"
     ]
    },
    {
     "name": "stderr",
     "output_type": "stream",
     "text": [
      "100%|█████████████████████████████| 1447/1447 [00:54<00:00, 26.74it/s]\n"
     ]
    },
    {
     "name": "stdout",
     "output_type": "stream",
     "text": [
      "312e3263a9f24f3184364949a42a6dfc.jsonl is throwing an error!\n"
     ]
    }
   ],
   "source": [
    "from tqdm import tqdm\n",
    "import pandas as pd\n",
    "\n",
    "from utils import load_sessions, read_session\n",
    "from main import generate_buffer\n",
    "\n",
    "sessions = load_sessions()\n",
    "\n",
    "file_name = []\n",
    "text = []\n",
    "\n",
    "err = []\n",
    "\n",
    "for sess in tqdm(sessions):\n",
    "    events = read_session(sess, verbose=0)\n",
    "    try:\n",
    "        text_buffer = generate_buffer(events)\n",
    "    except:\n",
    "        err.append(str(sess.split('/')[-1]) + \" is throwing an error!\")\n",
    "        continue\n",
    "    file_name.append(sess.split('/')[-1])\n",
    "    text.append(text_buffer[-1])\n",
    "    \n",
    "for e in err:\n",
    "    print(e)\n",
    "    \n",
    "df = pd.DataFrame()\n",
    "df[\"file_name\"] = file_name\n",
    "df[\"text\"] = text\n",
    "df.to_csv(\"writing_sessions.csv\")"
   ]
  }
 ],
 "metadata": {
  "kernelspec": {
   "display_name": "Python 3 (ipykernel)",
   "language": "python",
   "name": "python3"
  },
  "language_info": {
   "codemirror_mode": {
    "name": "ipython",
    "version": 3
   },
   "file_extension": ".py",
   "mimetype": "text/x-python",
   "name": "python",
   "nbconvert_exporter": "python",
   "pygments_lexer": "ipython3",
   "version": "3.9.2"
  }
 },
 "nbformat": 4,
 "nbformat_minor": 5
}
