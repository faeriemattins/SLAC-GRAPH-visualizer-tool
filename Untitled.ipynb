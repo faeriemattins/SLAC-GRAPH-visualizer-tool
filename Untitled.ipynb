{
 "cells": [
  {
   "cell_type": "markdown",
   "id": "ca368409",
   "metadata": {},
   "source": [
    "# Build sentences from JSONL files and export to CSV"
   ]
  },
  {
   "cell_type": "code",
   "execution_count": 1,
   "id": "b8d65f9a",
   "metadata": {},
   "outputs": [],
   "source": [
    "# from tqdm import tqdm\n",
    "# import pandas as pd\n",
    "\n",
    "# from utils import load_sessions, read_session\n",
    "# from main import generate_buffer\n",
    "\n",
    "# sessions = load_sessions()\n",
    "\n",
    "# file_name = []\n",
    "# text = []\n",
    "\n",
    "# err = []\n",
    "\n",
    "# for sess in tqdm(sessions):\n",
    "#     events = read_session(sess, verbose=0)\n",
    "#     try:\n",
    "#         text_buffer = generate_buffer(events)\n",
    "#     except:\n",
    "#         err.append(str(sess.split('/')[-1]) + \" is throwing an error!\")\n",
    "#         continue\n",
    "#     file_name.append(sess.split('/')[-1])\n",
    "#     text.append(text_buffer[-1])\n",
    "    \n",
    "# for e in err:\n",
    "#     print(e)\n",
    "    \n",
    "# df = pd.DataFrame()\n",
    "# df[\"file_name\"] = file_name\n",
    "# df[\"text\"] = text\n",
    "# df.to_csv(\"writing_sessions.csv\")"
   ]
  },
  {
   "cell_type": "markdown",
   "id": "7e6eb411",
   "metadata": {},
   "source": [
    "# Export sentence and summary statistics to CSV"
   ]
  },
  {
   "cell_type": "code",
   "execution_count": 2,
   "id": "a15d7324",
   "metadata": {},
   "outputs": [
    {
     "name": "stdout",
     "output_type": "stream",
     "text": [
      "Successfully downloaded 1447 writing sessions in CoAuthor!\n"
     ]
    },
    {
     "name": "stderr",
     "output_type": "stream",
     "text": [
      " 25%|███████▍                      | 356/1447 [04:14<12:35,  1.44it/s]/home/sri/Documents/UTS Research/coauthor-visualizer/summary.py:16: FutureWarning: elementwise comparison failed; returning scalar instead, but in the future will perform elementwise comparison\n",
      "  if (\"gpt3-call\" not in seq) and (\"empty-call\" not in seq):\n",
      "/home/sri/Documents/UTS Research/coauthor-visualizer/summary.py:18: FutureWarning: elementwise comparison failed; returning scalar instead, but in the future will perform elementwise comparison\n",
      "  if (\"gpt3-call\" in seq) and (\"user\" not in seq):\n",
      " 26%|███████▉                      | 382/1447 [04:34<19:34,  1.10s/it]/home/sri/Documents/UTS Research/coauthor-visualizer/summary.py:16: FutureWarning: elementwise comparison failed; returning scalar instead, but in the future will perform elementwise comparison\n",
      "  if (\"gpt3-call\" not in seq) and (\"empty-call\" not in seq):\n",
      "/home/sri/Documents/UTS Research/coauthor-visualizer/summary.py:18: FutureWarning: elementwise comparison failed; returning scalar instead, but in the future will perform elementwise comparison\n",
      "  if (\"gpt3-call\" in seq) and (\"user\" not in seq):\n",
      " 27%|███████▉                      | 385/1447 [04:37<17:05,  1.04it/s]/home/sri/Documents/UTS Research/coauthor-visualizer/summary.py:16: FutureWarning: elementwise comparison failed; returning scalar instead, but in the future will perform elementwise comparison\n",
      "  if (\"gpt3-call\" not in seq) and (\"empty-call\" not in seq):\n",
      "/home/sri/Documents/UTS Research/coauthor-visualizer/summary.py:18: FutureWarning: elementwise comparison failed; returning scalar instead, but in the future will perform elementwise comparison\n",
      "  if (\"gpt3-call\" in seq) and (\"user\" not in seq):\n",
      " 36%|██████████▊                   | 519/1447 [06:17<10:02,  1.54it/s]/home/sri/Documents/UTS Research/coauthor-visualizer/summary.py:16: FutureWarning: elementwise comparison failed; returning scalar instead, but in the future will perform elementwise comparison\n",
      "  if (\"gpt3-call\" not in seq) and (\"empty-call\" not in seq):\n",
      "/home/sri/Documents/UTS Research/coauthor-visualizer/summary.py:18: FutureWarning: elementwise comparison failed; returning scalar instead, but in the future will perform elementwise comparison\n",
      "  if (\"gpt3-call\" in seq) and (\"user\" not in seq):\n",
      " 72%|█████████████████████        | 1048/1447 [12:59<06:43,  1.01s/it]/home/sri/Documents/UTS Research/coauthor-visualizer/summary.py:16: FutureWarning: elementwise comparison failed; returning scalar instead, but in the future will perform elementwise comparison\n",
      "  if (\"gpt3-call\" not in seq) and (\"empty-call\" not in seq):\n",
      "/home/sri/Documents/UTS Research/coauthor-visualizer/summary.py:18: FutureWarning: elementwise comparison failed; returning scalar instead, but in the future will perform elementwise comparison\n",
      "  if (\"gpt3-call\" in seq) and (\"user\" not in seq):\n",
      " 87%|█████████████████████████▎   | 1263/1447 [15:38<01:28,  2.07it/s]/home/sri/Documents/UTS Research/coauthor-visualizer/summary.py:16: FutureWarning: elementwise comparison failed; returning scalar instead, but in the future will perform elementwise comparison\n",
      "  if (\"gpt3-call\" not in seq) and (\"empty-call\" not in seq):\n",
      "/home/sri/Documents/UTS Research/coauthor-visualizer/summary.py:18: FutureWarning: elementwise comparison failed; returning scalar instead, but in the future will perform elementwise comparison\n",
      "  if (\"gpt3-call\" in seq) and (\"user\" not in seq):\n",
      "100%|█████████████████████████████| 1447/1447 [17:56<00:00,  1.34it/s]"
     ]
    },
    {
     "name": "stdout",
     "output_type": "stream",
     "text": [
      "312e3263a9f24f3184364949a42a6dfc.jsonl is throwing an error!\n"
     ]
    },
    {
     "name": "stderr",
     "output_type": "stream",
     "text": [
      "\n"
     ]
    }
   ],
   "source": [
    "from tqdm import tqdm\n",
    "import pandas as pd\n",
    "\n",
    "from utils import load_sessions, read_session\n",
    "from main import generate_buffer\n",
    "from events import generate_event_seq\n",
    "from summary import stats\n",
    "\n",
    "sessions = load_sessions()[:10]\n",
    "\n",
    "file_name = []\n",
    "text = []\n",
    "sentence_metrics_list = []\n",
    "api_metrics_list = []\n",
    "\n",
    "err = []\n",
    "\n",
    "for sess in tqdm(sessions):\n",
    "    events = read_session(sess, verbose=0)\n",
    "    try:\n",
    "        text_buffer = generate_buffer(events)\n",
    "    except:\n",
    "        err.append(str(sess.split('/')[-1]) + \" is throwing an error!\")\n",
    "        continue\n",
    "    file_name.append(sess.split('/')[-1])\n",
    "    text.append(text_buffer[-1])\n",
    "    event_seq_dict = generate_event_seq(buffer=text_buffer,\n",
    "                                        events=events)\n",
    "    sentence_metrics, api_metrics = stats(event_seq_dict)\n",
    "    sentence_metrics_list.append(sentence_metrics)\n",
    "    api_metrics_list.append(api_metrics)\n",
    "    \n",
    "for e in err:\n",
    "    print(e)\n",
    "    \n",
    "df = pd.DataFrame()\n",
    "df[\"file_name\"] = file_name\n",
    "df[\"text\"] = text\n",
    "df[\"sentence_metrics\"] = sentence_metrics_list\n",
    "df[\"api_metrics\"] = api_metrics_list\n",
    "df.to_csv(\"writing_session_stats.csv\")"
   ]
  }
 ],
 "metadata": {
  "kernelspec": {
   "display_name": "Python 3 (ipykernel)",
   "language": "python",
   "name": "python3"
  },
  "language_info": {
   "codemirror_mode": {
    "name": "ipython",
    "version": 3
   },
   "file_extension": ".py",
   "mimetype": "text/x-python",
   "name": "python",
   "nbconvert_exporter": "python",
   "pygments_lexer": "ipython3",
   "version": "3.10.9"
  }
 },
 "nbformat": 4,
 "nbformat_minor": 5
}
