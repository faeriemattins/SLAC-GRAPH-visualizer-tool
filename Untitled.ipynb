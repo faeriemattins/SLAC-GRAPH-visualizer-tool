{
 "cells": [
  {
   "cell_type": "code",
   "execution_count": 1,
   "id": "b8d65f9a",
   "metadata": {},
   "outputs": [],
   "source": [
    "from tqdm import tqdm\n",
    "import pandas as pd"
   ]
  },
  {
   "cell_type": "code",
   "execution_count": 2,
   "id": "89744c0f",
   "metadata": {},
   "outputs": [],
   "source": [
    "from utils import load_sessions, read_session\n",
    "from main import generate_buffer"
   ]
  },
  {
   "cell_type": "code",
   "execution_count": 3,
   "id": "f04b2ea2",
   "metadata": {},
   "outputs": [
    {
     "name": "stdout",
     "output_type": "stream",
     "text": [
      "Successfully downloaded 1447 writing sessions in CoAuthor!\n"
     ]
    }
   ],
   "source": [
    "sessions = load_sessions()"
   ]
  },
  {
   "cell_type": "code",
   "execution_count": 4,
   "id": "f5566d5d",
   "metadata": {},
   "outputs": [
    {
     "name": "stderr",
     "output_type": "stream",
     "text": [
      "100%|█████████████████████████████| 1447/1447 [00:46<00:00, 31.00it/s]\n"
     ]
    }
   ],
   "source": [
    "file_name = []\n",
    "text = []\n",
    "\n",
    "err = []\n",
    "\n",
    "for sess in tqdm(sessions):\n",
    "    events = read_session(sess, verbose=0)\n",
    "    try:\n",
    "        text_buffer = generate_buffer(events)\n",
    "    except:\n",
    "        err.append(str(sess.split('/')[-1]) + \" is throwing an error!\")\n",
    "        continue\n",
    "    file_name.append(sess.split('/')[-1])\n",
    "    text.append(text_buffer[-1])"
   ]
  },
  {
   "cell_type": "code",
   "execution_count": 5,
   "id": "4779ced1",
   "metadata": {},
   "outputs": [
    {
     "name": "stdout",
     "output_type": "stream",
     "text": [
      "312e3263a9f24f3184364949a42a6dfc.jsonl is throwing an error!\n"
     ]
    }
   ],
   "source": [
    "for e in err:\n",
    "    print(e)"
   ]
  },
  {
   "cell_type": "code",
   "execution_count": 6,
   "id": "12b72ee7",
   "metadata": {},
   "outputs": [],
   "source": [
    "df = pd.DataFrame()\n",
    "df[\"file_name\"] = file_name\n",
    "df[\"text\"] = text\n",
    "df.to_csv(\"writing_sessions.csv\")"
   ]
  }
 ],
 "metadata": {
  "kernelspec": {
   "display_name": "Python 3 (ipykernel)",
   "language": "python",
   "name": "python3"
  },
  "language_info": {
   "codemirror_mode": {
    "name": "ipython",
    "version": 3
   },
   "file_extension": ".py",
   "mimetype": "text/x-python",
   "name": "python",
   "nbconvert_exporter": "python",
   "pygments_lexer": "ipython3",
   "version": "3.9.2"
  }
 },
 "nbformat": 4,
 "nbformat_minor": 5
}
