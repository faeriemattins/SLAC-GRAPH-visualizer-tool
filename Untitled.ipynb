{
 "cells": [
  {
   "cell_type": "markdown",
   "id": "91915063",
   "metadata": {},
   "source": [
    "# Build sentences from JSONL files and export to CSV"
   ]
  },
  {
   "cell_type": "code",
   "execution_count": 1,
   "id": "b8d65f9a",
   "metadata": {},
   "outputs": [],
   "source": [
    "# from tqdm import tqdm\n",
    "# import pandas as pd\n",
    "\n",
    "# from utils import load_sessions, read_session\n",
    "# from main import generate_buffer\n",
    "\n",
    "# sessions = load_sessions()\n",
    "\n",
    "# file_name = []\n",
    "# text = []\n",
    "\n",
    "# err = []\n",
    "\n",
    "# for sess in tqdm(sessions):\n",
    "#     events = read_session(sess, verbose=0)\n",
    "#     try:\n",
    "#         text_buffer = generate_buffer(events)\n",
    "#     except:\n",
    "#         err.append(str(sess.split('/')[-1]) + \" is throwing an error!\")\n",
    "#         continue\n",
    "#     file_name.append(sess.split('/')[-1])\n",
    "#     text.append(text_buffer[-1])\n",
    "    \n",
    "# for e in err:\n",
    "#     print(e)\n",
    "    \n",
    "# df = pd.DataFrame()\n",
    "# df[\"file_name\"] = file_name\n",
    "# df[\"text\"] = text\n",
    "# df.to_csv(\"writing_sessions.csv\")"
   ]
  },
  {
   "cell_type": "markdown",
   "id": "45ff2de2",
   "metadata": {},
   "source": [
    "# Export sentence and summary statistics to CSV"
   ]
  },
  {
   "cell_type": "code",
   "execution_count": null,
   "id": "cfbcab49",
   "metadata": {},
   "outputs": [
    {
     "name": "stdout",
     "output_type": "stream",
     "text": [
      "Successfully downloaded 1447 writing sessions in CoAuthor!\n"
     ]
    },
    {
     "name": "stderr",
     "output_type": "stream",
     "text": [
      "  1%|▏                              | 10/1447 [00:06<14:32,  1.65it/s]"
     ]
    }
   ],
   "source": [
    "from tqdm import tqdm\n",
    "import pandas as pd\n",
    "\n",
    "from utils import load_sessions, read_session\n",
    "from main import generate_buffer\n",
    "from events import generate_event_seq\n",
    "from summary import stats\n",
    "\n",
    "sessions = load_sessions()\n",
    "\n",
    "file_name = []\n",
    "text = []\n",
    "sentence_metrics_list = []\n",
    "api_metrics_list = []\n",
    "\n",
    "err = []\n",
    "\n",
    "for sess in tqdm(sessions):\n",
    "    events = read_session(sess, verbose=0)\n",
    "    try:\n",
    "        text_buffer = generate_buffer(events)\n",
    "    except:\n",
    "        err.append(str(sess.split('/')[-1]) + \" is throwing an error!\")\n",
    "        continue\n",
    "    file_name.append(sess.split('/')[-1])\n",
    "    text.append(text_buffer[-1])\n",
    "    event_seq_dict = generate_event_seq(buffer=text_buffer,\n",
    "                                        events=events)\n",
    "    sentence_metrics, api_metrics = stats(event_seq_dict)\n",
    "    sentence_metrics_list.append(sentence_metrics)\n",
    "    api_metrics_list.append(api_metrics)\n",
    "    \n",
    "for e in err:\n",
    "    print(e)\n",
    "    \n",
    "df = pd.DataFrame()\n",
    "df[\"file_name\"] = file_name\n",
    "df[\"text\"] = text\n",
    "df[\"sentence_metrics\"] = sentence_metrics_list\n",
    "df[\"api_metrics\"] = api_metrics_list\n",
    "df.to_csv(\"writing_session_stats.csv\")"
   ]
  }
 ],
 "metadata": {
  "kernelspec": {
   "display_name": "Python 3 (ipykernel)",
   "language": "python",
   "name": "python3"
  },
  "language_info": {
   "codemirror_mode": {
    "name": "ipython",
    "version": 3
   },
   "file_extension": ".py",
   "mimetype": "text/x-python",
   "name": "python",
   "nbconvert_exporter": "python",
   "pygments_lexer": "ipython3",
   "version": "3.9.2"
  }
 },
 "nbformat": 4,
 "nbformat_minor": 5
}
